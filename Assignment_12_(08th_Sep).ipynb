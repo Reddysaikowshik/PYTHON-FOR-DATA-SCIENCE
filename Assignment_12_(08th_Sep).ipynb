{
  "nbformat": 4,
  "nbformat_minor": 0,
  "metadata": {
    "colab": {
      "provenance": [],
      "authorship_tag": "ABX9TyM6YOjNWNUnLEOWUX1+TqLL",
      "include_colab_link": true
    },
    "kernelspec": {
      "name": "python3",
      "display_name": "Python 3"
    },
    "language_info": {
      "name": "python"
    }
  },
  "cells": [
    {
      "cell_type": "markdown",
      "metadata": {
        "id": "view-in-github",
        "colab_type": "text"
      },
      "source": [
        "<a href=\"https://colab.research.google.com/github/Reddysaikowshik/PYTHON-FOR-DATA-SCIENCE/blob/main/Assignment_12_(08th_Sep).ipynb\" target=\"_parent\"><img src=\"https://colab.research.google.com/assets/colab-badge.svg\" alt=\"Open In Colab\"/></a>"
      ]
    },
    {
      "cell_type": "code",
      "source": [
        "import pandas as pd\n",
        "\n",
        "data = {\n",
        "    'StudentID': [101, 102, 103, 104, 105, 106, 107, 108],\n",
        "    'Name': ['Alice', 'Bob', 'Charlie', 'Diana', 'Evan', 'Fiona', 'George', 'Hannah'],\n",
        "    'Gender': ['Female', 'M', 'male', 'F', 'Male', 'female', 'male', 'Female']\n",
        "}\n",
        "df = pd.DataFrame(data)\n",
        "\n",
        "print(\"=\"*35)\n",
        "print(\"Categories Before Standardization:\")\n",
        "print(\"=\"*35)\n",
        "print(df['Gender'].value_counts())\n",
        "print(\"\\n\")\n",
        "\n",
        "gender_map = {\n",
        "    'M': 'Male',\n",
        "    'male': 'Male',\n",
        "    'Male': 'Male',\n",
        "    'F': 'Female',\n",
        "    'female': 'Female',\n",
        "    'Female': 'Female'\n",
        "}\n",
        "\n",
        "df['Gender'] = df['Gender'].replace(gender_map)\n",
        "\n",
        "print(\"=\"*35)\n",
        "print(\"Categories After Standardization:\")\n",
        "print(\"=\"*35)\n",
        "print(df['Gender'].value_counts())\n",
        "print(\"\\n\")\n",
        "\n",
        "print(\"=\"*35)\n",
        "print(\"Cleaned DataFrame:\")\n",
        "print(\"=\"*35)\n",
        "print(df)"
      ],
      "metadata": {
        "colab": {
          "base_uri": "https://localhost:8080/"
        },
        "id": "QkOrmi9m-FLX",
        "outputId": "4810de9b-2b39-414a-df31-d7b481611ad1"
      },
      "execution_count": 2,
      "outputs": [
        {
          "output_type": "stream",
          "name": "stdout",
          "text": [
            "===================================\n",
            "Categories Before Standardization:\n",
            "===================================\n",
            "Gender\n",
            "Female    2\n",
            "male      2\n",
            "M         1\n",
            "F         1\n",
            "Male      1\n",
            "female    1\n",
            "Name: count, dtype: int64\n",
            "\n",
            "\n",
            "===================================\n",
            "Categories After Standardization:\n",
            "===================================\n",
            "Gender\n",
            "Female    4\n",
            "Male      4\n",
            "Name: count, dtype: int64\n",
            "\n",
            "\n",
            "===================================\n",
            "Cleaned DataFrame:\n",
            "===================================\n",
            "   StudentID     Name  Gender\n",
            "0        101    Alice  Female\n",
            "1        102      Bob    Male\n",
            "2        103  Charlie    Male\n",
            "3        104    Diana  Female\n",
            "4        105     Evan    Male\n",
            "5        106    Fiona  Female\n",
            "6        107   George    Male\n",
            "7        108   Hannah  Female\n"
          ]
        }
      ]
    }
  ]
}