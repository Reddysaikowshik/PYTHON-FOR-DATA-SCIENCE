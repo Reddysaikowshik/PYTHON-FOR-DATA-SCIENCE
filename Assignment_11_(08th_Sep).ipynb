{
  "nbformat": 4,
  "nbformat_minor": 0,
  "metadata": {
    "colab": {
      "provenance": [],
      "authorship_tag": "ABX9TyNjYqGrUrjIQG6ptbOoUzVe",
      "include_colab_link": true
    },
    "kernelspec": {
      "name": "python3",
      "display_name": "Python 3"
    },
    "language_info": {
      "name": "python"
    }
  },
  "cells": [
    {
      "cell_type": "markdown",
      "metadata": {
        "id": "view-in-github",
        "colab_type": "text"
      },
      "source": [
        "<a href=\"https://colab.research.google.com/github/Reddysaikowshik/PYTHON-FOR-DATA-SCIENCE/blob/main/Assignment_11_(08th_Sep).ipynb\" target=\"_parent\"><img src=\"https://colab.research.google.com/assets/colab-badge.svg\" alt=\"Open In Colab\"/></a>"
      ]
    },
    {
      "cell_type": "code",
      "execution_count": 1,
      "metadata": {
        "colab": {
          "base_uri": "https://localhost:8080/"
        },
        "id": "wlFqPZor9Ejq",
        "outputId": "7ac3920b-0a9a-40da-c0f7-b01dec2f68a9"
      },
      "outputs": [
        {
          "output_type": "stream",
          "name": "stdout",
          "text": [
            "========================================\n",
            "Missing Values Before Cleaning:\n",
            "========================================\n",
            "survived         0\n",
            "pclass           0\n",
            "sex              0\n",
            "age            177\n",
            "sibsp            0\n",
            "parch            0\n",
            "fare             0\n",
            "embarked         2\n",
            "class            0\n",
            "who              0\n",
            "adult_male       0\n",
            "deck           688\n",
            "embark_town      2\n",
            "alive            0\n",
            "alone            0\n",
            "dtype: int64\n",
            "\n",
            "\n",
            "========================================\n",
            "Missing Values After Cleaning:\n",
            "========================================\n",
            "survived      0\n",
            "pclass        0\n",
            "sex           0\n",
            "age           0\n",
            "sibsp         0\n",
            "parch         0\n",
            "fare          0\n",
            "embarked      0\n",
            "class         0\n",
            "who           0\n",
            "adult_male    0\n",
            "alive         0\n",
            "alone         0\n",
            "dtype: int64\n",
            "\n",
            "\n",
            "========================================\n",
            "First 5 Rows of Cleaned Data:\n",
            "========================================\n",
            "   survived  pclass     sex   age  sibsp  parch     fare embarked  class  \\\n",
            "0         0       3    male  22.0      1      0   7.2500        S  Third   \n",
            "1         1       1  female  38.0      1      0  71.2833        C  First   \n",
            "2         1       3  female  26.0      0      0   7.9250        S  Third   \n",
            "3         1       1  female  35.0      1      0  53.1000        S  First   \n",
            "4         0       3    male  35.0      0      0   8.0500        S  Third   \n",
            "\n",
            "     who  adult_male alive  alone  \n",
            "0    man        True    no  False  \n",
            "1  woman       False   yes  False  \n",
            "2  woman       False   yes   True  \n",
            "3  woman       False   yes  False  \n",
            "4    man        True    no   True  \n"
          ]
        }
      ],
      "source": [
        "import pandas as pd\n",
        "import seaborn as sns\n",
        "\n",
        "df = sns.load_dataset('titanic')\n",
        "\n",
        "print(\"=\"*40)\n",
        "print(\"Missing Values Before Cleaning:\")\n",
        "print(\"=\"*40)\n",
        "print(df.isnull().sum())\n",
        "print(\"\\n\")\n",
        "\n",
        "age_mean = df['age'].mean()\n",
        "embarked_mode = df['embarked'].mode()[0]\n",
        "\n",
        "df['age'] = df['age'].fillna(age_mean)\n",
        "df['embarked'] = df['embarked'].fillna(embarked_mode)\n",
        "\n",
        "df.drop(['deck', 'embark_town'], axis=1, inplace=True)\n",
        "\n",
        "print(\"=\"*40)\n",
        "print(\"Missing Values After Cleaning:\")\n",
        "print(\"=\"*40)\n",
        "print(df.isnull().sum())\n",
        "print(\"\\n\")\n",
        "\n",
        "print(\"=\"*40)\n",
        "print(\"First 5 Rows of Cleaned Data:\")\n",
        "print(\"=\"*40)\n",
        "print(df.head())"
      ]
    }
  ]
}